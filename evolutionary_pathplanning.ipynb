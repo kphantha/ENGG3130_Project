{
 "cells": [
  {
   "cell_type": "markdown",
   "id": "a45fbc05",
   "metadata": {},
   "source": [
    "# Evolutionary Robot Path Planning"
   ]
  },
  {
   "cell_type": "code",
   "execution_count": 101,
   "id": "644577b4",
   "metadata": {},
   "outputs": [],
   "source": [
    "import matplotlib.pyplot as plt\n",
    "import matplotlib.patches as patches\n",
    "import numpy as np"
   ]
  },
  {
   "cell_type": "code",
   "execution_count": 98,
   "id": "654264e2",
   "metadata": {},
   "outputs": [],
   "source": [
    "class Obstacle:\n",
    "\n",
    "    def __init__(self, xlim: tuple, ylim: tuple, permeability=1, velocity=(0, 0)):\n",
    "        self.xlim = np.array(xlim)\n",
    "        self.ylim = np.array(ylim)\n",
    "        self.permeability = permeability\n",
    "        self.velocity = velocity\n",
    "\n",
    "    def update_position(self):\n",
    "        self.xlim += self.velocity[0]\n",
    "        self.ylim += self.velocity[1]\n"
   ]
  },
  {
   "cell_type": "code",
   "execution_count": null,
   "id": "7601c3d1",
   "metadata": {},
   "outputs": [],
   "source": [
    "class Simulation:\n",
    "    \n",
    "    def __init__(self, size: tuple, start : tuple, objective: tuple, num_agents=10):\n",
    "        self.size = size\n",
    "        self.start = start\n",
    "        self.objective = objective\n",
    "        self.num_agents = num_agents\n",
    "\n",
    "        # self.agents = \n",
    "        self.obstacles = []\n",
    "\n",
    "    def run():\n",
    "        # Create agents here?\n",
    "        # Find optimal path\n",
    "        pass\n",
    "        \n",
    "    def add_obstacles(self, *obstacles):\n",
    "        self.obstacles.extend(obstacles)\n",
    "\n",
    "    def draw_path(self, path):\n",
    "        # Keeping this general for now - could take in the agent instead of the path in the future\n",
    "        # Path format can also be changed\n",
    "\n",
    "        # Setup figure and axis\n",
    "        fig, ax = plt.subplots()\n",
    "        fig.set_size_inches((7, 7))\n",
    "        ax.set_xlim(0, self.size[0])\n",
    "        ax.set_ylim(0, self.size[1])\n",
    "        ax.set_axis_off()\n",
    "\n",
    "        # Start and objective\n",
    "        ax.plot(self.start[0], self.start[1], 'bX', markersize=7)\n",
    "        ax.plot(self.objective[0], self.objective[1], 'r*', markersize=10)\n",
    "\n",
    "        # Obstacles\n",
    "        for obs in self.obstacles:\n",
    "            ax.add_patch(patches.Rectangle((obs.xlim[0], obs.ylim[0]), obs.xlim[1] - obs.xlim[0], obs.ylim[1] - obs.ylim[0],\n",
    "                                           color='black', alpha=obs.permeability))\n",
    "\n",
    "        # Path\n",
    "        for i, pos in enumerate(path[:-1]):\n",
    "            next_pos = path[i+1]\n",
    "            ax.plot((pos[0], next_pos[0]), (pos[1], next_pos[1]), \n",
    "                     linestyle='--', marker='.', color='black', mfc='blue', mec='blue', markersize=7)\n",
    "            "
   ]
  },
  {
   "cell_type": "code",
   "execution_count": 103,
   "id": "9e8e2b7b",
   "metadata": {},
   "outputs": [
    {
     "data": {
      "image/png": "[encoded data removed]",
      "text/plain": [
       "<Figure size 700x700 with 1 Axes>"
      ]
     },
     "metadata": {},
     "output_type": "display_data"
    }
   ],
   "source": [
    "# Test\n",
    "start = (10, 10)\n",
    "objective = (90, 90)\n",
    "sim = Simulation((100, 100), start, objective)\n",
    "sim.add_obstacles(Obstacle((35, 50), (55, 60)), Obstacle((60, 70), (30, 50)))\n",
    "\n",
    "sim.draw_path([start, (50, 50), (75, 80), objective])"
   ]
  }
 ],
 "metadata": {
  "kernelspec": {
   "display_name": "engg3130",
   "language": "python",
   "name": "python3"
  },
  "language_info": {
   "codemirror_mode": {
    "name": "ipython",
    "version": 3
   },
   "file_extension": ".py",
   "mimetype": "text/x-python",
   "name": "python",
   "nbconvert_exporter": "python",
   "pygments_lexer": "ipython3",
   "version": "3.12.8"
  }
 },
 "nbformat": 4,
 "nbformat_minor": 5
}
